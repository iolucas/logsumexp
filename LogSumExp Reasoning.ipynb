{
 "cells": [
  {
   "cell_type": "markdown",
   "metadata": {},
   "source": [
    "# LogSumExp Reasoning\n",
    "https://en.wikipedia.org/wiki/LogSumExp\n",
    "\n",
    "\n",
    "https://lingpipe-blog.com/2012/02/16/howprevent-overflow-underflow-logistic-regression/\n",
    "\n",
    "\n",
    "numerical computation deep learning book\n",
    "\n",
    "https://github.com/udacity/deep-learning/blob/master/semi-supervised/semi-supervised_learning_2_solution.ipynb"
   ]
  },
  {
   "cell_type": "code",
   "execution_count": 1,
   "metadata": {
    "collapsed": true
   },
   "outputs": [],
   "source": [
    "import numpy as np"
   ]
  },
  {
   "cell_type": "code",
   "execution_count": 2,
   "metadata": {
    "collapsed": true
   },
   "outputs": [],
   "source": [
    "def softmax(x):\n",
    "    return np.exp(x)/np.sum(np.exp(x))\n",
    "\n",
    "def softmax_safe(x):\n",
    "    return np.exp(x-np.max(x))/np.sum(np.exp(x-np.max(x)))\n",
    "\n",
    "def logsumexp(arr):\n",
    "    return np.log(np.sum(np.exp(arr)))\n",
    "\n",
    "def logsumexp_safe(arr):\n",
    "    return np.max(arr) + np.log(np.sum(np.exp(arr - np.max(arr))))\n",
    "\n",
    "def sigmoid(x):\n",
    "  return 1 / (1 + np.exp(-x))\n",
    "\n",
    "def sigmoid_inv(x):\n",
    "    return np.log(x/(1-x))"
   ]
  },
  {
   "cell_type": "code",
   "execution_count": 3,
   "metadata": {},
   "outputs": [
    {
     "data": {
      "text/plain": [
       "0.5000000000000001"
      ]
     },
     "execution_count": 3,
     "metadata": {},
     "output_type": "execute_result"
    }
   ],
   "source": [
    "sigmoid_inv(sigmoid(0.5))"
   ]
  },
  {
   "cell_type": "code",
   "execution_count": 4,
   "metadata": {},
   "outputs": [
    {
     "data": {
      "text/plain": [
       "array([0.35434369, 0.64565631])"
      ]
     },
     "execution_count": 4,
     "metadata": {},
     "output_type": "execute_result"
    }
   ],
   "source": [
    "x = np.array([0.2,0.8])\n",
    "#x = np.log(x)\n",
    "np.exp(x - logsumexp(x))"
   ]
  },
  {
   "cell_type": "code",
   "execution_count": 5,
   "metadata": {},
   "outputs": [
    {
     "data": {
      "text/plain": [
       "1.0"
      ]
     },
     "execution_count": 5,
     "metadata": {},
     "output_type": "execute_result"
    }
   ],
   "source": [
    "np.log(np.exp(1))"
   ]
  },
  {
   "cell_type": "code",
   "execution_count": 6,
   "metadata": {},
   "outputs": [
    {
     "name": "stdout",
     "output_type": "stream",
     "text": [
      "[10. 20. 16.  7.]\n",
      "[10. 20. 16.  7.]\n",
      "0.0\n",
      "20.018196729854324\n",
      "[4.45812706e-05 9.81967831e-01 1.79853682e-02 2.21957077e-06]\n",
      "0.9999999979760135\n"
     ]
    }
   ],
   "source": [
    "#No extra class\n",
    "class_logits = np.array([1,2, 1.6, 0.7])*(10)\n",
    "\n",
    "real_class_logits = class_logits\n",
    "fake_class_logits = 0.\n",
    "\n",
    "gan_logits = logsumexp_safe(real_class_logits)\n",
    "\n",
    "out = softmax_safe(class_logits)\n",
    "\n",
    "print(class_logits)\n",
    "print(real_class_logits)\n",
    "print(fake_class_logits)\n",
    "print(gan_logits)\n",
    "print(out)\n",
    "print(sigmoid(gan_logits))"
   ]
  },
  {
   "cell_type": "code",
   "execution_count": 36,
   "metadata": {},
   "outputs": [
    {
     "name": "stdout",
     "output_type": "stream",
     "text": [
      "GANLOGIT 2.837564045968448\n",
      "GANLOGIT2 2.837564045968448\n"
     ]
    },
    {
     "data": {
      "text/plain": [
       "0.9446745006700173"
      ]
     },
     "execution_count": 36,
     "metadata": {},
     "output_type": "execute_result"
    }
   ],
   "source": [
    "#Extra class\n",
    "class_logits = np.array([1,2, 1.6, 0.7, -0.0])\n",
    "num_classes = 4\n",
    "\n",
    "real_class_logits, fake_class_logits = np.split(class_logits, [num_classes])\n",
    "assert fake_class_logits.shape[0] == 1, fake_class_logits.shape\n",
    "fake_class_logits = np.squeeze(fake_class_logits)\n",
    "\n",
    "gan_logits = logsumexp_safe(real_class_logits) - fake_class_logits\n",
    "\n",
    "gan_logits2 = sigmoid_inv(1 - np.exp(fake_class_logits)/np.sum(np.exp(class_logits)))\n",
    "\n",
    "\n",
    "p = (np.sum(np.exp(class_logits)) - np.exp(fake_class_logits))/np.sum(np.exp(class_logits))\n",
    "\n",
    "aux1 = np.sum(np.exp(class_logits))\n",
    "aux2 = np.exp(fake_class_logits)\n",
    "\n",
    "one_minus_p = aux2/aux1\n",
    "\n",
    "\n",
    "SOLVED!\n",
    "\n",
    "\n",
    "gan_logits3 = np.log(p) - np.log(one_minus_p)\n",
    "\n",
    "#gan_logits4 = sigmoid_inv((np.sum(np.exp(class_logits)) - np.exp(fake_class_logits))/np.sum(np.exp(class_logits)))\n",
    "\n",
    "#out = softmax_safe(class_logits)\n",
    "\n",
    "#print(class_logits)\n",
    "#print(real_class_logits)\n",
    "#print(fake_class_logits)\n",
    "print(\"GANLOGIT\", gan_logits)\n",
    "print(\"GANLOGIT2\", gan_logits3)\n",
    "#print(\"OUT\", out)\n",
    "#print(sigmoid(gan_logits))\n",
    "\n",
    "#print(\"RL\", real_class_logits.sum())\n",
    "\n",
    "\n",
    "sigmoid(gan_logits) + out[-1]"
   ]
  },
  {
   "cell_type": "code",
   "execution_count": 16,
   "metadata": {},
   "outputs": [
    {
     "data": {
      "text/plain": [
       "-1.032583734116815"
      ]
     },
     "execution_count": 16,
     "metadata": {},
     "output_type": "execute_result"
    }
   ],
   "source": [
    "x0 = np.array([1,2,3,4])\n",
    "\n",
    "np.log(1-np.exp(x0[3])/np.sum(np.exp(x0)))"
   ]
  },
  {
   "cell_type": "code",
   "execution_count": 17,
   "metadata": {},
   "outputs": [
    {
     "name": "stderr",
     "output_type": "stream",
     "text": [
      "C:\\Users\\du0x\\Anaconda2\\envs\\tf\\lib\\site-packages\\ipykernel_launcher.py:1: RuntimeWarning: invalid value encountered in log\n",
      "  \"\"\"Entry point for launching an IPython kernel.\n"
     ]
    },
    {
     "data": {
      "text/plain": [
       "nan"
      ]
     },
     "execution_count": 17,
     "metadata": {},
     "output_type": "execute_result"
    }
   ],
   "source": [
    "np.log(-10)"
   ]
  },
  {
   "cell_type": "code",
   "execution_count": 22,
   "metadata": {},
   "outputs": [
    {
     "data": {
      "text/plain": [
       "1.2374879504858858"
      ]
     },
     "execution_count": 22,
     "metadata": {},
     "output_type": "execute_result"
    }
   ],
   "source": [
    "logsumexp_safe(x)"
   ]
  },
  {
   "cell_type": "code",
   "execution_count": 63,
   "metadata": {
    "collapsed": true
   },
   "outputs": [],
   "source": [
    "a = np.array([1,0.5,2,4])"
   ]
  },
  {
   "cell_type": "code",
   "execution_count": 15,
   "metadata": {
    "collapsed": true
   },
   "outputs": [],
   "source": []
  },
  {
   "cell_type": "code",
   "execution_count": 65,
   "metadata": {},
   "outputs": [
    {
     "name": "stdout",
     "output_type": "stream",
     "text": [
      "0.822828734841\n",
      "0.177171265159\n"
     ]
    }
   ],
   "source": [
    "s = softmax(a)\n",
    "fake_prob = s[3]\n",
    "print(fake_prob)\n",
    "print(1-fake_prob)"
   ]
  },
  {
   "cell_type": "code",
   "execution_count": 66,
   "metadata": {},
   "outputs": [
    {
     "data": {
      "text/plain": [
       "0.19500719857359439"
      ]
     },
     "execution_count": 66,
     "metadata": {},
     "output_type": "execute_result"
    }
   ],
   "source": [
    "real_logit = np.log(np.sum(np.exp(a-np.max(a)))) + np.max(a) - a[3]\n",
    "real_logit"
   ]
  },
  {
   "cell_type": "code",
   "execution_count": 67,
   "metadata": {},
   "outputs": [
    {
     "data": {
      "text/plain": [
       "0.54859789122588909"
      ]
     },
     "execution_count": 67,
     "metadata": {},
     "output_type": "execute_result"
    }
   ],
   "source": [
    "sigmoid(real_logit)"
   ]
  },
  {
   "cell_type": "code",
   "execution_count": 48,
   "metadata": {},
   "outputs": [
    {
     "data": {
      "text/plain": [
       "9.0011147287934943"
      ]
     },
     "execution_count": 48,
     "metadata": {},
     "output_type": "execute_result"
    }
   ],
   "source": [
    "np.log(np.sum(np.exp(a)))"
   ]
  },
  {
   "cell_type": "code",
   "execution_count": null,
   "metadata": {
    "collapsed": true
   },
   "outputs": [],
   "source": []
  }
 ],
 "metadata": {
  "kernelspec": {
   "display_name": "Python 3",
   "language": "python",
   "name": "python3"
  },
  "language_info": {
   "codemirror_mode": {
    "name": "ipython",
    "version": 3
   },
   "file_extension": ".py",
   "mimetype": "text/x-python",
   "name": "python",
   "nbconvert_exporter": "python",
   "pygments_lexer": "ipython3",
   "version": "3.5.3"
  }
 },
 "nbformat": 4,
 "nbformat_minor": 2
}
